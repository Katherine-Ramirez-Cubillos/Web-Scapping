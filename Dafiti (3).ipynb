{
 "cells": [
  {
   "cell_type": "code",
   "execution_count": 1,
   "metadata": {},
   "outputs": [
    {
     "name": "stdout",
     "output_type": "stream",
     "text": [
      "Requirement already satisfied: selenium in e:\\anaconda\\lib\\site-packages (3.141.0)\n",
      "Requirement already satisfied: urllib3 in e:\\anaconda\\lib\\site-packages (from selenium) (1.25.9)\n",
      "El driver fue instalado correctamente\n"
     ]
    }
   ],
   "source": [
    "#Instalar el paquete que controla el navegador\n",
    "!pip install selenium\n",
    "\n",
    "#Descargar el Driver en :https://sites.google.com/a/chromium.org/chromedriver/downloads\n",
    "\n",
    "#importar y chequer si selenium funciona\n",
    "\n",
    "from selenium import webdriver\n",
    "from selenium.webdriver.support.ui import WebDriverWait     \n",
    "from selenium.webdriver.common.by import By     \n",
    "from selenium.webdriver.support import expected_conditions as EC\n",
    "from selenium.common.exceptions import TimeoutException\n",
    "from selenium.webdriver.support.select import Select\n",
    "import openpyxl\n",
    "from openpyxl import load_workbook\n",
    "import re\n",
    "import itertools\n",
    "import time \n",
    "import pandas as pd\n",
    "\n",
    "# selecionando nuestro webbrowser (selecionar la ubicación donde este el driver)\n",
    "try:\n",
    "    driver = webdriver.Chrome(\"C:/Users/Ivan/Documents/CCCE/WebDriver/chromedriver80\")\n",
    "except:\n",
    "    driver = webdriver.Chrome(\"C:/Users/Ivan/Documents/CCCE/WebDriver/chromedriver85\")\n",
    "    print(\"El driver fue instalado correctamente\")"
   ]
  },
  {
   "cell_type": "code",
   "execution_count": 2,
   "metadata": {},
   "outputs": [
    {
     "name": "stderr",
     "output_type": "stream",
     "text": [
      "<ipython-input-2-41c9a50908b2>:6: DeprecationWarning: Call to deprecated function get_sheet_by_name (Use wb[sheetname]).\n",
      "  hoja = docs.get_sheet_by_name(\"Dafiti\")\n"
     ]
    }
   ],
   "source": [
    "#pagina donde va a buscar\n",
    "#Dafiti\n",
    "driver.maximize_window()\n",
    "\n",
    "docs = openpyxl.load_workbook (\"Categorias.xlsx\")\n",
    "hoja = docs.get_sheet_by_name(\"Dafiti\")\n",
    "\n",
    "itemsD = []\n",
    "for columna in hoja.iter_rows():\n",
    "    bien = columna[0].value\n",
    "    itemsD.append(bien)"
   ]
  },
  {
   "cell_type": "code",
   "execution_count": 3,
   "metadata": {},
   "outputs": [],
   "source": [
    "driver.get(\"https://www.dafiti.com.co/\")"
   ]
  },
  {
   "cell_type": "code",
   "execution_count": 5,
   "metadata": {},
   "outputs": [
    {
     "name": "stdout",
     "output_type": "stream",
     "text": [
      "Camisa hombre\n"
     ]
    },
    {
     "ename": "TimeoutException",
     "evalue": "Message: \n",
     "output_type": "error",
     "traceback": [
      "\u001b[1;31m---------------------------------------------------------------------------\u001b[0m",
      "\u001b[1;31mTimeoutException\u001b[0m                          Traceback (most recent call last)",
      "\u001b[1;32m<ipython-input-5-3dc53ee09fa4>\u001b[0m in \u001b[0;36m<module>\u001b[1;34m\u001b[0m\n\u001b[0;32m     21\u001b[0m         \u001b[0msort2\u001b[0m\u001b[1;33m.\u001b[0m\u001b[0mclick\u001b[0m\u001b[1;33m(\u001b[0m\u001b[1;33m)\u001b[0m\u001b[1;33m\u001b[0m\u001b[1;33m\u001b[0m\u001b[0m\n\u001b[0;32m     22\u001b[0m     \u001b[0mtime\u001b[0m\u001b[1;33m.\u001b[0m\u001b[0msleep\u001b[0m\u001b[1;33m(\u001b[0m\u001b[1;36m5\u001b[0m\u001b[1;33m)\u001b[0m\u001b[1;33m\u001b[0m\u001b[1;33m\u001b[0m\u001b[0m\n\u001b[1;32m---> 23\u001b[1;33m     \u001b[0maplicar\u001b[0m \u001b[1;33m=\u001b[0m \u001b[0mWebDriverWait\u001b[0m\u001b[1;33m(\u001b[0m\u001b[0mdriver\u001b[0m\u001b[1;33m,\u001b[0m \u001b[1;36m60\u001b[0m\u001b[1;33m)\u001b[0m\u001b[1;33m.\u001b[0m\u001b[0muntil\u001b[0m\u001b[1;33m(\u001b[0m\u001b[1;32mlambda\u001b[0m \u001b[0mx\u001b[0m\u001b[1;33m:\u001b[0m \u001b[0mx\u001b[0m\u001b[1;33m.\u001b[0m\u001b[0mfind_element_by_css_selector\u001b[0m\u001b[1;33m(\u001b[0m\u001b[1;34m\".filterBtn.applyFilterButton.greenButton\"\u001b[0m\u001b[1;33m)\u001b[0m\u001b[1;33m)\u001b[0m\u001b[1;33m\u001b[0m\u001b[1;33m\u001b[0m\u001b[0m\n\u001b[0m\u001b[0;32m     24\u001b[0m     \u001b[0maplicar\u001b[0m\u001b[1;33m.\u001b[0m\u001b[0mclick\u001b[0m\u001b[1;33m(\u001b[0m\u001b[1;33m)\u001b[0m\u001b[1;33m\u001b[0m\u001b[1;33m\u001b[0m\u001b[0m\n\u001b[0;32m     25\u001b[0m     \u001b[0mtime\u001b[0m\u001b[1;33m.\u001b[0m\u001b[0msleep\u001b[0m\u001b[1;33m(\u001b[0m\u001b[1;36m20\u001b[0m\u001b[1;33m)\u001b[0m\u001b[1;33m\u001b[0m\u001b[1;33m\u001b[0m\u001b[0m\n",
      "\u001b[1;32mE:\\Anaconda\\lib\\site-packages\\selenium\\webdriver\\support\\wait.py\u001b[0m in \u001b[0;36muntil\u001b[1;34m(self, method, message)\u001b[0m\n\u001b[0;32m     78\u001b[0m             \u001b[1;32mif\u001b[0m \u001b[0mtime\u001b[0m\u001b[1;33m.\u001b[0m\u001b[0mtime\u001b[0m\u001b[1;33m(\u001b[0m\u001b[1;33m)\u001b[0m \u001b[1;33m>\u001b[0m \u001b[0mend_time\u001b[0m\u001b[1;33m:\u001b[0m\u001b[1;33m\u001b[0m\u001b[1;33m\u001b[0m\u001b[0m\n\u001b[0;32m     79\u001b[0m                 \u001b[1;32mbreak\u001b[0m\u001b[1;33m\u001b[0m\u001b[1;33m\u001b[0m\u001b[0m\n\u001b[1;32m---> 80\u001b[1;33m         \u001b[1;32mraise\u001b[0m \u001b[0mTimeoutException\u001b[0m\u001b[1;33m(\u001b[0m\u001b[0mmessage\u001b[0m\u001b[1;33m,\u001b[0m \u001b[0mscreen\u001b[0m\u001b[1;33m,\u001b[0m \u001b[0mstacktrace\u001b[0m\u001b[1;33m)\u001b[0m\u001b[1;33m\u001b[0m\u001b[1;33m\u001b[0m\u001b[0m\n\u001b[0m\u001b[0;32m     81\u001b[0m \u001b[1;33m\u001b[0m\u001b[0m\n\u001b[0;32m     82\u001b[0m     \u001b[1;32mdef\u001b[0m \u001b[0muntil_not\u001b[0m\u001b[1;33m(\u001b[0m\u001b[0mself\u001b[0m\u001b[1;33m,\u001b[0m \u001b[0mmethod\u001b[0m\u001b[1;33m,\u001b[0m \u001b[0mmessage\u001b[0m\u001b[1;33m=\u001b[0m\u001b[1;34m''\u001b[0m\u001b[1;33m)\u001b[0m\u001b[1;33m:\u001b[0m\u001b[1;33m\u001b[0m\u001b[1;33m\u001b[0m\u001b[0m\n",
      "\u001b[1;31mTimeoutException\u001b[0m: Message: \n"
     ]
    }
   ],
   "source": [
    "linksD = []\n",
    "priceD = []\n",
    "descD = []\n",
    "codesD = []\n",
    "timeD = []\n",
    "obj = []\n",
    "timeDF = []\n",
    "\n",
    "from selenium.webdriver.common.keys import Keys\n",
    "\n",
    "for item in itemsD:\n",
    "    searchBar = WebDriverWait(driver, 200).until(lambda x: x.find_element_by_id(\"searchInput\")) #Selecionar la barra de busqueda\n",
    "    searchBar.send_keys(item) #escribir en la barra de busqueda\n",
    "    searchBar.send_keys(Keys.RETURN) #Enviar la busqueda sortNumber1\n",
    "    print(item)\n",
    "    time.sleep(20)\n",
    "    try:\n",
    "        sort = WebDriverWait(driver, 60).until(lambda x: x.find_element_by_css_selector(\".itm.hasOverlay.lfloat.size1of3.catalog-discount-item\"))\n",
    "        sort.click()\n",
    "    except:\n",
    "        sort2 = WebDriverWait(driver, 60).until(lambda x: x.find_element_by_css_selector(\".specialPriceText\"))\n",
    "        sort2.click()\n",
    "    time.sleep(5)\n",
    "    aplicar = WebDriverWait(driver, 60).until(lambda x: x.find_element_by_css_selector(\".filterBtn.applyFilterButton.greenButton\"))\n",
    "    aplicar.click()\n",
    "    time.sleep(20)\n",
    "    elemsp = WebDriverWait(driver, 200).until(lambda x: x.find_elements_by_css_selector(\".itm-price.special\"))\n",
    "    for elemp in elemsp:\n",
    "        if elemp.text != \"\":\n",
    "            ele = elemp.text #obtiene el precio del webelement\n",
    "            value = re.findall(r\"[0-9.]*[0-9]+\", ele) #quita el signo \"$\" del precio\n",
    "            #print(value[0])\n",
    "            priceD.append(value[0]) #guarda el precio en una lista\n",
    "        else:\n",
    "            continue\n",
    "    elems = WebDriverWait(driver, 60).until(lambda x: x.find_elements_by_css_selector(\".itm-link\"))\n",
    "    for elem in itertools.islice(elems,None,None,1): #realiza un loop cada \"3\" Webelements\n",
    "        linksD.append(elem.get_attribute(\"href\")) #Obtiene y guarda el webelement en la lista \"linksK\"\n",
    "        #print(elem.get_attribute(\"href\"))\n",
    "        timeD.append(time.strftime(\"%d/%m/%y %H:%M:%S\"))\n",
    "        timeDF.append(time.strftime(\"%d/%m/%y\"))\n",
    "        obj.append(item)\n",
    "    #print(len(priceD))\n",
    "    #print(len(linksD))\n",
    "for link in linksD: #Obtener descripcion & Codigo unico de los links\n",
    "    des = re.findall(r\"co?/([^\\s].+)-\", link)\n",
    "    des = des[0]\n",
    "    #print(des)\n",
    "    descD.append(des) #guarda cada descripcion en la lista \"descK\"\n",
    "    code = re.findall(\"-([0-9].+).html\",link)\n",
    "    code = code[0]\n",
    "    #print(code)\n",
    "    codesD.append(code) #guarda cada descripcion en la lista \"codesK\""
   ]
  },
  {
   "cell_type": "code",
   "execution_count": 19,
   "metadata": {},
   "outputs": [],
   "source": [
    "nowa = time.strftime(\"%d-%m-%y\")\n",
    "dataf = pd.DataFrame({\"Codigo\":codesD, \"Descripción\":descD,\n",
    "                      \"Subcategoria\":obj, \"Precio\":priceD,\n",
    "                      \"Link\":linksD, \"Fecha & Hora\":timeD, \"Fecha\":timeDF})\n",
    "book = load_workbook('Dafiti.xlsx')\n",
    "writer = pd.ExcelWriter('Dafiti.xlsx', engine = 'openpyxl')\n",
    "writer.book = book\n",
    "dataf.to_excel(writer, sheet_name = (\"Dafiti \" + str(nowa)), index = False)\n",
    "writer.save()"
   ]
  },
  {
   "cell_type": "code",
   "execution_count": 7,
   "metadata": {},
   "outputs": [
    {
     "data": {
      "text/plain": [
       "666"
      ]
     },
     "execution_count": 7,
     "metadata": {},
     "output_type": "execute_result"
    }
   ],
   "source": [
    "len(priceD)"
   ]
  },
  {
   "cell_type": "code",
   "execution_count": 8,
   "metadata": {},
   "outputs": [
    {
     "data": {
      "text/plain": [
       "672"
      ]
     },
     "execution_count": 8,
     "metadata": {},
     "output_type": "execute_result"
    }
   ],
   "source": [
    "len(linksD)"
   ]
  },
  {
   "cell_type": "code",
   "execution_count": 17,
   "metadata": {},
   "outputs": [
    {
     "name": "stdout",
     "output_type": "stream",
     "text": [
      "[]\n",
      "[]\n",
      "[]\n",
      "[]\n",
      "[]\n",
      "[]\n",
      "[]\n",
      "[]\n",
      "[]\n",
      "[]\n",
      "[]\n",
      "[]\n",
      "[]\n",
      "[]\n",
      "[]\n",
      "[]\n",
      "[]\n",
      "[]\n",
      "[]\n",
      "[]\n",
      "[]\n",
      "[]\n",
      "[]\n",
      "[]\n",
      "[]\n",
      "[]\n",
      "[]\n",
      "[]\n",
      "[]\n",
      "[]\n",
      "[]\n",
      "[]\n",
      "[]\n",
      "[]\n",
      "[]\n",
      "[]\n",
      "[]\n",
      "[]\n",
      "[]\n",
      "[]\n",
      "[]\n",
      "[]\n",
      "[]\n",
      "[]\n",
      "[]\n",
      "[]\n",
      "[]\n",
      "[]\n"
     ]
    }
   ],
   "source": [
    "priceD = []\n",
    "bienes = WebDriverWait(driver, 60).until(lambda x: x.find_elements_by_css_selector(\".itm-product-main-info\"))\n",
    "for bien in bienes:\n",
    "    pric = bien.find_elements_by_css_selector(\".itm-price\")\n",
    "    for p in pric[0:1]:\n",
    "            ele = p.text #obtiene el precio del webelement\n",
    "            value = re.findall(r\"[0-9.]*[0-9]+\", ele) #quita el signo \"$\" del precio\n",
    "            print(value)\n",
    "            priceD.append(value) #guarda el precio en una lista"
   ]
  },
  {
   "cell_type": "code",
   "execution_count": 12,
   "metadata": {},
   "outputs": [
    {
     "data": {
      "text/plain": [
       "36"
      ]
     },
     "execution_count": 12,
     "metadata": {},
     "output_type": "execute_result"
    }
   ],
   "source": [
    "len(priceD)"
   ]
  },
  {
   "cell_type": "code",
   "execution_count": 1,
   "metadata": {},
   "outputs": [],
   "source": [
    "import dropbox\n",
    "from dropbox.files import WriteMode\n",
    "\n",
    "cliente = dropbox.Dropbox('sl.Ak9Xgcw8jKOKY9oqvWvcLIKykrRLgbZdFJ8A-ERmUjoYSzyz9f90Ae6ZybmJ_f5EhvscXuicOXQpB0ao6E2FiiH85TdKg3tqfIaYTUac12-rMvospyfQ-obONJULytZK2v6l4dxYH_Y')\n",
    "path = \"/Dropbox/Aplicaciones/save_python/Dafiti.xlsx\"\n",
    "#print(cliente.users_get_current_account()) \n",
    "f= open(\"C:/Users/Ivan/Documents/CCCE/Dafiti/Dafiti.xlsx\", \"rb\")\n",
    "respuesta = cliente.files_upload(f.read(),path, mode = dropbox.files.WriteMode.overwrite)"
   ]
  },
  {
   "cell_type": "code",
   "execution_count": null,
   "metadata": {},
   "outputs": [],
   "source": []
  }
 ],
 "metadata": {
  "kernelspec": {
   "display_name": "Python 3",
   "language": "python",
   "name": "python3"
  },
  "language_info": {
   "codemirror_mode": {
    "name": "ipython",
    "version": 3
   },
   "file_extension": ".py",
   "mimetype": "text/x-python",
   "name": "python",
   "nbconvert_exporter": "python",
   "pygments_lexer": "ipython3",
   "version": "3.8.3"
  }
 },
 "nbformat": 4,
 "nbformat_minor": 4
}
