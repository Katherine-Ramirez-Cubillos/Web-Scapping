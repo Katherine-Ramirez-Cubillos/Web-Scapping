{
 "cells": [
  {
   "cell_type": "code",
   "execution_count": 1,
   "metadata": {},
   "outputs": [
    {
     "name": "stdout",
     "output_type": "stream",
     "text": [
      "Requirement already satisfied: selenium in e:\\anaconda\\lib\\site-packages (3.141.0)\n",
      "Requirement already satisfied: urllib3 in e:\\anaconda\\lib\\site-packages (from selenium) (1.25.9)\n",
      "El driver fue instalado correctamente\n"
     ]
    }
   ],
   "source": [
    "#Instalar el paquete que controla el navegador\n",
    "!pip install selenium\n",
    "\n",
    "#Descargar el Driver en :https://sites.google.com/a/chromium.org/chromedriver/downloads\n",
    "\n",
    "#importar y chequer si selenium funciona\n",
    "\n",
    "from selenium import webdriver\n",
    "from selenium.webdriver.support.ui import WebDriverWait     \n",
    "from selenium.webdriver.common.by import By     \n",
    "from selenium.webdriver.support import expected_conditions as EC\n",
    "from selenium.common.exceptions import TimeoutException\n",
    "from selenium.webdriver.support.select import Select\n",
    "import openpyxl\n",
    "from openpyxl import load_workbook\n",
    "import re\n",
    "import itertools\n",
    "import time \n",
    "import pandas as pd\n",
    "\n",
    "# selecionando nuestro webbrowser (selecionar la ubicación donde este el driver)\n",
    "try:\n",
    "    driver = webdriver.Chrome(\"C:/Users/Ivan/Documents/CCCE/WebDriver/chromedriver80\")\n",
    "except:\n",
    "    driver = webdriver.Chrome(\"C:/Users/Ivan/Documents/CCCE/WebDriver/chromedriver85\")\n",
    "    print(\"El driver fue instalado correctamente\")"
   ]
  },
  {
   "cell_type": "code",
   "execution_count": 2,
   "metadata": {
    "scrolled": true
   },
   "outputs": [
    {
     "name": "stderr",
     "output_type": "stream",
     "text": [
      "<ipython-input-2-a347be60feeb>:6: DeprecationWarning: Call to deprecated function get_sheet_by_name (Use wb[sheetname]).\n",
      "  hoja = docs.get_sheet_by_name(\"Mercadolibre\")\n"
     ]
    }
   ],
   "source": [
    "#pagina donde va a buscar\n",
    "#Mercadolibre\n",
    "driver.maximize_window()\n",
    "\n",
    "docs = openpyxl.load_workbook (\"Categorias.xlsx\")\n",
    "hoja = docs.get_sheet_by_name(\"Mercadolibre\")\n",
    "\n",
    "itemsM = []\n",
    "for columna in hoja.iter_rows():\n",
    "    bien = columna[0].value\n",
    "    itemsM.append(bien)"
   ]
  },
  {
   "cell_type": "code",
   "execution_count": 3,
   "metadata": {},
   "outputs": [],
   "source": [
    "driver.get(\"https://www.mercadolibre.com.co/\")"
   ]
  },
  {
   "cell_type": "code",
   "execution_count": 4,
   "metadata": {},
   "outputs": [],
   "source": [
    "linksM = []\n",
    "priceM = []\n",
    "descM = []\n",
    "codesM = []\n",
    "timeM = []\n",
    "obj = []\n",
    "codesMp = []\n",
    "timeMF = []\n",
    "\n",
    "from selenium.webdriver.common.keys import Keys\n",
    "\n",
    "mercadolibre = \"https://listado.mercadolibre.com.co/\"\n",
    "dis = \"_DisplayType_LF\"\n",
    "for item in itemsM:\n",
    "    driver.get(mercadolibre + item + dis)\n",
    "    SCROLL_PAUSE_TIME = 0.5\n",
    "    # Get scroll height\n",
    "    last_height = driver.execute_script(\"return document.body.scrollHeight\")\n",
    "    while True:\n",
    "        # Scroll down to bottom\n",
    "        driver.execute_script(\"window.scrollTo(0, document.body.scrollHeight);\")\n",
    "        # Wait to load page\n",
    "        time.sleep(SCROLL_PAUSE_TIME)\n",
    "        # Calculate new scroll height and compare with last scroll height\n",
    "        new_height = driver.execute_script(\"return document.body.scrollHeight\")\n",
    "        if new_height == last_height:\n",
    "            break\n",
    "        last_height = new_height\n",
    "    bienes = WebDriverWait(driver, 200).until(lambda x: x.find_elements_by_css_selector(\".ui-search-layout__item\"))\n",
    "    for elem in bienes:\n",
    "        pric = elem.find_elements_by_css_selector(\".price-tag-fraction\")\n",
    "        for p in pric[0:1]:\n",
    "            ele = p.text #obtiene el precio del webelement\n",
    "            value = re.findall(r\"[0-9.]*[0-9]+\", ele) #quita el signo \"$\" del precio\n",
    "            #print(value[0])\n",
    "            priceM.append(value[0]) #guarda el precio en una lista\n",
    "    for elem in bienes:\n",
    "        linksM.append(elem.find_element_by_css_selector(\"div.ui-search-item__group--title > a\").get_attribute('href'))\n",
    "        timeM.append(time.strftime(\"%d/%m/%y %H:%M:%S\"))\n",
    "        timeMF.append(time.strftime(\"%d/%m/%y\"))\n",
    "        obj.append(item)\n",
    "    #for link in linksM:\n",
    "        #print(link)\n",
    "    for elem in bienes:\n",
    "        descM.append(elem.find_element_by_css_selector(\"h2.ui-search-item__title\").text)\n",
    "    error = \"data:image/gif;base64,R0lGODlhAQABAIAAAAAAAP///yH5BAEAAAAALAAAAAABAAEAAAIBRAA7\"\n",
    "    for elem in bienes:\n",
    "        if elem.find_element_by_css_selector(\"div.slick-slide.slick-active > img\").get_attribute(\"src\") == error:\n",
    "            codesMp.append(elem.find_element_by_css_selector(\"div.slick-slide.slick-active > img\").get_attribute(\"data-src\"))\n",
    "        elif elem.find_element_by_css_selector(\"div.slick-slide.slick-active > img\").get_attribute(\"src\") != error:\n",
    "            codesMp.append(elem.find_element_by_css_selector(\"div.slick-slide.slick-active > img\").get_attribute(\"src\"))\n",
    "for link in codesMp: #Obtener Codigo unico de los links\n",
    "    code = re.findall(r\"-MC.(.*?).-V\", link)\n",
    "    #code = des[0]\n",
    "    codesM.append(code)"
   ]
  },
  {
   "cell_type": "code",
   "execution_count": 5,
   "metadata": {},
   "outputs": [
    {
     "data": {
      "text/plain": [
       "2000"
      ]
     },
     "execution_count": 5,
     "metadata": {},
     "output_type": "execute_result"
    }
   ],
   "source": [
    "len(linksM)"
   ]
  },
  {
   "cell_type": "code",
   "execution_count": 6,
   "metadata": {},
   "outputs": [
    {
     "data": {
      "text/plain": [
       "2000"
      ]
     },
     "execution_count": 6,
     "metadata": {},
     "output_type": "execute_result"
    }
   ],
   "source": [
    "len(priceM)"
   ]
  },
  {
   "cell_type": "code",
   "execution_count": 7,
   "metadata": {},
   "outputs": [
    {
     "data": {
      "text/plain": [
       "2000"
      ]
     },
     "execution_count": 7,
     "metadata": {},
     "output_type": "execute_result"
    }
   ],
   "source": [
    "len(descM)"
   ]
  },
  {
   "cell_type": "code",
   "execution_count": 8,
   "metadata": {},
   "outputs": [
    {
     "data": {
      "text/plain": [
       "2000"
      ]
     },
     "execution_count": 8,
     "metadata": {},
     "output_type": "execute_result"
    }
   ],
   "source": [
    "len(codesM)"
   ]
  },
  {
   "cell_type": "code",
   "execution_count": 9,
   "metadata": {},
   "outputs": [
    {
     "data": {
      "text/plain": [
       "2000"
      ]
     },
     "execution_count": 9,
     "metadata": {},
     "output_type": "execute_result"
    }
   ],
   "source": [
    "len(timeMF)"
   ]
  },
  {
   "cell_type": "code",
   "execution_count": 10,
   "metadata": {},
   "outputs": [],
   "source": [
    "nowa = time.strftime(\"%d-%m-%y\")\n",
    "dataf = pd.DataFrame({\"Codigo\":codesM, \"Descripción\":descM,\n",
    "                      \"Subcategoria\":obj, \"Precio\":priceM,\n",
    "                      \"Link\":linksM, \"Fecha & Hora\":timeM, \"Fecha\":timeMF})\n",
    "book = load_workbook('MercadoLibre.xlsx')\n",
    "writer = pd.ExcelWriter('MercadoLibre.xlsx', engine = 'openpyxl')\n",
    "writer.book = book\n",
    "dataf.to_excel(writer, sheet_name = (\"MercadoLibre \" + str(nowa)), index = False)\n",
    "writer.save()"
   ]
  },
  {
   "cell_type": "code",
   "execution_count": 2,
   "metadata": {},
   "outputs": [],
   "source": [
    "import pandas as pd\n",
    "xls = pd.ExcelFile(r\"C:\\Users\\Ivan\\Documents\\CCCE\\Mercadolibre\\MercadoLibre.xlsx\")"
   ]
  },
  {
   "cell_type": "code",
   "execution_count": 3,
   "metadata": {},
   "outputs": [],
   "source": [
    "names1 = xls.sheet_names"
   ]
  },
  {
   "cell_type": "code",
   "execution_count": 7,
   "metadata": {},
   "outputs": [],
   "source": [
    "import pandas as pd\n",
    "import openpyxl\n",
    "from openpyxl import load_workbook\n",
    "\n",
    "my_value = pd.DataFrame()\n",
    "merge_value = pd.DataFrame()\n",
    "for i in names1:\n",
    "    my_value = pd.read_excel(r\"C:\\Users\\Ivan\\Documents\\CCCE\\Mercadolibre\\MercadoLibre.xlsx\", sheet_name = i)\n",
    "    merge_value = pd.concat([merge_value,my_value], ignore_index = False)\n",
    "#print(merge_value.head)\n",
    "merge_value.to_csv(\"Mercadolibre Consolidado.csv\", index = False)"
   ]
  },
  {
   "cell_type": "code",
   "execution_count": 10,
   "metadata": {},
   "outputs": [],
   "source": [
    "import dropbox\n",
    "from dropbox.files import WriteMode\n",
    "\n",
    "cliente = dropbox.Dropbox(\"sl.Ak-rLRS9DMuGf862Zp0zyMLejTVAeDo110RnEJGmx3Het6osaChMGekVNdPQuAtLC4ugjzelLNXd35c_ROHYIIxPGjjJl7hbM2MaJDIdtQmxaCmmo9VFvBpJREp2DfkAiT4S3MzNkDc\")\n",
    "path = \"/Dropbox/Aplicaciones/save_python/Mercadolibre Consolidado.csv\"\n",
    "#print(cliente.users_get_current_account()) \n",
    "f= open(\"C:/Users/Ivan/Documents/CCCE/Mercadolibre/Mercadolibre Consolidado.csv\", \"rb\")\n",
    "respuesta = cliente.files_upload(f.read(),path, mode = dropbox.files.WriteMode.overwrite)"
   ]
  },
  {
   "cell_type": "code",
   "execution_count": null,
   "metadata": {},
   "outputs": [],
   "source": []
  }
 ],
 "metadata": {
  "kernelspec": {
   "display_name": "Python 3",
   "language": "python",
   "name": "python3"
  },
  "language_info": {
   "codemirror_mode": {
    "name": "ipython",
    "version": 3
   },
   "file_extension": ".py",
   "mimetype": "text/x-python",
   "name": "python",
   "nbconvert_exporter": "python",
   "pygments_lexer": "ipython3",
   "version": "3.8.3"
  }
 },
 "nbformat": 4,
 "nbformat_minor": 4
}
