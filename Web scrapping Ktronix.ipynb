{
 "cells": [
  {
   "cell_type": "code",
   "execution_count": 14,
   "metadata": {},
   "outputs": [
    {
     "name": "stdout",
     "output_type": "stream",
     "text": [
      "Requirement already satisfied: selenium in e:\\anaconda\\lib\\site-packages (3.141.0)\n",
      "Requirement already satisfied: urllib3 in e:\\anaconda\\lib\\site-packages (from selenium) (1.25.9)\n",
      "Requirement already satisfied: Dropbox in e:\\anaconda\\lib\\site-packages (10.8.0)\n",
      "Requirement already satisfied: six>=1.12.0 in e:\\anaconda\\lib\\site-packages (from Dropbox) (1.15.0)\n",
      "Requirement already satisfied: requests>=2.16.2 in e:\\anaconda\\lib\\site-packages (from Dropbox) (2.24.0)\n",
      "Requirement already satisfied: chardet<4,>=3.0.2 in e:\\anaconda\\lib\\site-packages (from requests>=2.16.2->Dropbox) (3.0.4)\n",
      "Requirement already satisfied: urllib3!=1.25.0,!=1.25.1,<1.26,>=1.21.1 in e:\\anaconda\\lib\\site-packages (from requests>=2.16.2->Dropbox) (1.25.9)\n",
      "Requirement already satisfied: certifi>=2017.4.17 in e:\\anaconda\\lib\\site-packages (from requests>=2.16.2->Dropbox) (2020.6.20)\n",
      "Requirement already satisfied: idna<3,>=2.5 in e:\\anaconda\\lib\\site-packages (from requests>=2.16.2->Dropbox) (2.10)\n",
      "El driver fue instalado correctamente\n"
     ]
    }
   ],
   "source": [
    "#Instalar el paquete que controla el navegador\n",
    "!pip install selenium\n",
    "!pip install Dropbox\n",
    "#Descargar el Driver en :https://sites.google.com/a/chromium.org/chromedriver/downloads\n",
    "\n",
    "#importar y chequer si selenium funciona\n",
    "\n",
    "from selenium import webdriver\n",
    "from selenium.webdriver.common.keys import Keys as ky\n",
    "from selenium.webdriver.support.ui import WebDriverWait     \n",
    "from selenium.webdriver.common.by import By     \n",
    "from selenium.webdriver.support import expected_conditions as EC\n",
    "from selenium.common.exceptions import TimeoutException\n",
    "from selenium.webdriver.support.select import Select\n",
    "import openpyxl\n",
    "from openpyxl import load_workbook\n",
    "import re\n",
    "import itertools\n",
    "import time \n",
    "import pandas as pd\n",
    "import dropbox\n",
    "\n",
    "# selecionando nuestro webbrowser (selecionar la ubicación donde este el driver)\n",
    "try:\n",
    "    driver = webdriver.Chrome(\"C:/Users/Ivan/Documents/CCCE/WebDriver/chromedriver80\")\n",
    "except:\n",
    "    driver = webdriver.Chrome(\"C:/Users/Ivan/Documents/CCCE/WebDriver/chromedriver85\")\n",
    "    print(\"El driver fue instalado correctamente\")"
   ]
  },
  {
   "cell_type": "code",
   "execution_count": 15,
   "metadata": {
    "scrolled": false
   },
   "outputs": [
    {
     "name": "stderr",
     "output_type": "stream",
     "text": [
      "<ipython-input-15-b9f866fa2954>:6: DeprecationWarning: Call to deprecated function get_sheet_by_name (Use wb[sheetname]).\n",
      "  hoja = docs.get_sheet_by_name(\"ktronix\")\n"
     ]
    },
    {
     "name": "stdout",
     "output_type": "stream",
     "text": [
      "Celular\n",
      "Computador portatil\n",
      "Computador escritorio\n",
      "Televisor\n",
      "Audio\n",
      "Camara\n",
      "Consola\n",
      "Nevera\n",
      "Lavadora\n",
      "Estufa\n",
      "Ventilador\n",
      "Aspiradora\n",
      "plancha de ropa\n",
      "licuadora\n",
      "sanduchera\n",
      "Bicicleta\n",
      "Caminadora\n",
      "Balon\n"
     ]
    }
   ],
   "source": [
    "#pagina donde va a buscar\n",
    "#1. Ktronix\n",
    "driver.maximize_window()\n",
    "\n",
    "docs = openpyxl.load_workbook (\"Categorias.xlsx\")\n",
    "hoja = docs.get_sheet_by_name(\"ktronix\")\n",
    "\n",
    "itemsK = []\n",
    "for columna in hoja.iter_rows():\n",
    "    bien = columna[0].value\n",
    "    itemsK.append(bien)\n",
    "\n",
    "linksK = []\n",
    "priceK = []\n",
    "descK = []\n",
    "codesK = []\n",
    "timeK = []\n",
    "obj = []\n",
    "timeKF = []\n",
    "driver.get(\"https://www.ktronix.com/\")\n",
    "\n",
    "for item in itemsK:\n",
    "    searchBar = WebDriverWait(driver, 200).until(lambda x: x.find_element_by_id(\"js-site-search-input\")) #Selecionar la barra de busqueda\n",
    "    searchBar.send_keys(item) #escribir en la barra de busqueda\n",
    "    searchBar.submit() #Enviar la busqueda sortNumber1\n",
    "    print(item)\n",
    "    sort = WebDriverWait(driver, 20).until(lambda x: x.find_element_by_id(\"sortNumber1\"))\n",
    "    sort.send_keys(\"50\")\n",
    "    #sort = WebDriverWait(driver, 200).until(lambda x: x.find_element_by_id(\"sortNumber1\"))\n",
    "    #sort.send_keys(\"50\") #amplia la busqueda a 50 items por subcategoria\n",
    "    #driver.execute_script(\"window.scrollTo(0, document.body.scrollHeight);\")\n",
    "    time.sleep(3)\n",
    "    SCROLL_PAUSE_TIME = 0.5\n",
    "    # Get scroll height\n",
    "    last_height = driver.execute_script(\"return document.body.scrollHeight\")\n",
    "    while True:\n",
    "        # Scroll down to bottom\n",
    "        driver.execute_script(\"window.scrollTo(0, document.body.scrollHeight);\")\n",
    "        # Wait to load page\n",
    "        time.sleep(SCROLL_PAUSE_TIME)\n",
    "        # Calculate new scroll height and compare with last scroll height\n",
    "        new_height = driver.execute_script(\"return document.body.scrollHeight\")\n",
    "        if new_height == last_height:\n",
    "            break\n",
    "        last_height = new_height\n",
    "    elemsp = WebDriverWait(driver, 200).until(lambda x: x.find_elements_by_class_name(\"price\")) #busca y guarda los Webelemet con los precios en una lista\n",
    "    #Agregar pricedis\n",
    "    for elemp in elemsp:\n",
    "        if elemp.text != \"\":\n",
    "            ele = elemp.text #obtiene el precio del webelement\n",
    "            value = re.findall(r\"[0-9.]*[0-9]+\", ele) #quita el signo \"$\" del precio\n",
    "            priceK.append(value[0]) #guarda el precio en una lista\n",
    "        else:\n",
    "            continue\n",
    "    elems = WebDriverWait(driver, 200).until(lambda x: x.find_elements_by_class_name(\"js-product-click-datalayer\")) #busca y guarda los  Webelements con los links en una lista\n",
    "    for elem in itertools.islice(elems,None,None,3): #realiza un loop cada \"3\" Webelements\n",
    "        linksK.append(elem.get_attribute(\"href\")) #Obtiene y guarda el webelement en la lista \"linksK\"\n",
    "        timeK.append(time.strftime(\"%d/%m/%y %H:%M:%S\"))\n",
    "        timeKF.append(time.strftime(\"%d/%m/%y\"))\n",
    "        obj.append(item)\n",
    "    #except:\n",
    "        #print(\"Se genero un error\")\n",
    "        #continue\n",
    "        \n",
    "for link in linksK: #Obtener descripcion & Codigo unico de los links\n",
    "    des = re.findall(r\"com.(.*?).p/\", link)\n",
    "    des = des[0]\n",
    "    descK.append(des) #guarda cada descripcion en la lista \"descK\"\n",
    "    code = re.findall(\".*?([0-9]+)$\",link)\n",
    "    code = code[0]\n",
    "    codesK.append(code) #guarda cada descripcion en la lista \"codesK\""
   ]
  },
  {
   "cell_type": "code",
   "execution_count": 16,
   "metadata": {},
   "outputs": [
    {
     "data": {
      "text/plain": [
       "845"
      ]
     },
     "execution_count": 16,
     "metadata": {},
     "output_type": "execute_result"
    }
   ],
   "source": [
    "len(priceK)"
   ]
  },
  {
   "cell_type": "code",
   "execution_count": 4,
   "metadata": {},
   "outputs": [
    {
     "data": {
      "text/plain": [
       "870"
      ]
     },
     "execution_count": 4,
     "metadata": {},
     "output_type": "execute_result"
    }
   ],
   "source": [
    "len(linksK)"
   ]
  },
  {
   "cell_type": "code",
   "execution_count": 5,
   "metadata": {},
   "outputs": [
    {
     "data": {
      "text/plain": [
       "870"
      ]
     },
     "execution_count": 5,
     "metadata": {},
     "output_type": "execute_result"
    }
   ],
   "source": [
    "len(timeK)"
   ]
  },
  {
   "cell_type": "code",
   "execution_count": 38,
   "metadata": {},
   "outputs": [
    {
     "data": {
      "text/plain": [
       "870"
      ]
     },
     "execution_count": 38,
     "metadata": {},
     "output_type": "execute_result"
    }
   ],
   "source": [
    "len(descK)"
   ]
  },
  {
   "cell_type": "code",
   "execution_count": 39,
   "metadata": {},
   "outputs": [
    {
     "data": {
      "text/plain": [
       "870"
      ]
     },
     "execution_count": 39,
     "metadata": {},
     "output_type": "execute_result"
    }
   ],
   "source": [
    "len(codesK)"
   ]
  },
  {
   "cell_type": "code",
   "execution_count": 40,
   "metadata": {},
   "outputs": [
    {
     "data": {
      "text/plain": [
       "870"
      ]
     },
     "execution_count": 40,
     "metadata": {},
     "output_type": "execute_result"
    }
   ],
   "source": [
    "len(obj)"
   ]
  },
  {
   "cell_type": "code",
   "execution_count": 7,
   "metadata": {},
   "outputs": [],
   "source": [
    "nowa = time.strftime(\"%d-%m-%y\")\n",
    "dataf = pd.DataFrame({\"Codigo\":codesK, \"Descripción\":descK,\n",
    "                      \"Subcategoria\":obj, \"Precio\":priceK,\n",
    "                      \"Link\":linksK, \"Fecha & Hora\":timeK, \"Fecha\":timeKF})\n",
    "book = load_workbook('Ktronix.xlsx')\n",
    "writer = pd.ExcelWriter('Ktronix.xlsx', engine = 'openpyxl')\n",
    "writer.book = book\n",
    "dataf.to_excel(writer, sheet_name = (\"Ktronix \" + str(nowa)), index = False)\n",
    "writer.save()"
   ]
  },
  {
   "cell_type": "code",
   "execution_count": 2,
   "metadata": {},
   "outputs": [],
   "source": [
    "xls = pd.ExcelFile(\"C:/Users/Ivan/Documents/CCCE/Ktronix/Ktronix.xlsx\")"
   ]
  },
  {
   "cell_type": "code",
   "execution_count": 3,
   "metadata": {},
   "outputs": [],
   "source": [
    "names1 = xls.sheet_names"
   ]
  },
  {
   "cell_type": "code",
   "execution_count": 12,
   "metadata": {},
   "outputs": [],
   "source": [
    "import pandas as pd\n",
    "import openpyxl\n",
    "from openpyxl import load_workbook\n",
    "\n",
    "my_value = pd.DataFrame()\n",
    "merge_value = pd.DataFrame()\n",
    "for i in names1:\n",
    "    my_value = pd.read_excel(r\"C:\\Users\\Ivan\\Documents\\CCCE\\Ktronix\\Ktronix.xlsx\", sheet_name = i)\n",
    "    merge_value = pd.concat([merge_value,my_value], ignore_index = False)\n",
    "#print(merge_value.head)\n",
    "merge_value.to_csv(\"Ktronix Consolidado.csv\", index = False)"
   ]
  },
  {
   "cell_type": "markdown",
   "metadata": {},
   "source": [
    "# Importar a dropbox"
   ]
  },
  {
   "cell_type": "code",
   "execution_count": 13,
   "metadata": {},
   "outputs": [],
   "source": [
    "import dropbox\n",
    "from dropbox.files import WriteMode\n",
    "\n",
    "cliente = dropbox.Dropbox('sl.Ak9Xgcw8jKOKY9oqvWvcLIKykrRLgbZdFJ8A-ERmUjoYSzyz9f90Ae6ZybmJ_f5EhvscXuicOXQpB0ao6E2FiiH85TdKg3tqfIaYTUac12-rMvospyfQ-obONJULytZK2v6l4dxYH_Y')\n",
    "path = \"/Dropbox/Aplicaciones/save_python/Ktronix Consolidado.csv\"\n",
    "#print(cliente.users_get_current_account()) \n",
    "f= open(\"C:/Users/Ivan/Documents/CCCE/Ktronix/Ktronix Consolidado.csv\", \"rb\")\n",
    "respuesta = cliente.files_upload(f.read(),path, mode = dropbox.files.WriteMode.overwrite)"
   ]
  },
  {
   "cell_type": "code",
   "execution_count": 24,
   "metadata": {},
   "outputs": [],
   "source": [
    "Today = str(time.strftime(\"%Y/%m/%d\"))\n",
    "dates = pd.date_range(start= \"16/10/20\", end = Today)\n",
    "df = pd.DataFrame()\n",
    "for date in dates:\n",
    "    df[date] = []"
   ]
  },
  {
   "cell_type": "code",
   "execution_count": 25,
   "metadata": {},
   "outputs": [
    {
     "data": {
      "text/html": [
       "<div>\n",
       "<style scoped>\n",
       "    .dataframe tbody tr th:only-of-type {\n",
       "        vertical-align: middle;\n",
       "    }\n",
       "\n",
       "    .dataframe tbody tr th {\n",
       "        vertical-align: top;\n",
       "    }\n",
       "\n",
       "    .dataframe thead th {\n",
       "        text-align: right;\n",
       "    }\n",
       "</style>\n",
       "<table border=\"1\" class=\"dataframe\">\n",
       "  <thead>\n",
       "    <tr style=\"text-align: right;\">\n",
       "      <th></th>\n",
       "      <th>2020-10-16</th>\n",
       "      <th>2020-10-17</th>\n",
       "      <th>2020-10-18</th>\n",
       "      <th>2020-10-19</th>\n",
       "      <th>2020-10-20</th>\n",
       "      <th>2020-10-21</th>\n",
       "      <th>2020-10-22</th>\n",
       "      <th>2020-10-23</th>\n",
       "      <th>2020-10-24</th>\n",
       "      <th>2020-10-25</th>\n",
       "      <th>2020-10-26</th>\n",
       "      <th>2020-10-27</th>\n",
       "      <th>2020-10-28</th>\n",
       "      <th>2020-10-29</th>\n",
       "      <th>2020-10-30</th>\n",
       "      <th>2020-10-31</th>\n",
       "      <th>2020-11-01</th>\n",
       "      <th>2020-11-02</th>\n",
       "      <th>2020-11-03</th>\n",
       "      <th>2020-11-04</th>\n",
       "    </tr>\n",
       "  </thead>\n",
       "  <tbody>\n",
       "  </tbody>\n",
       "</table>\n",
       "</div>"
      ],
      "text/plain": [
       "Empty DataFrame\n",
       "Columns: [2020-10-16 00:00:00, 2020-10-17 00:00:00, 2020-10-18 00:00:00, 2020-10-19 00:00:00, 2020-10-20 00:00:00, 2020-10-21 00:00:00, 2020-10-22 00:00:00, 2020-10-23 00:00:00, 2020-10-24 00:00:00, 2020-10-25 00:00:00, 2020-10-26 00:00:00, 2020-10-27 00:00:00, 2020-10-28 00:00:00, 2020-10-29 00:00:00, 2020-10-30 00:00:00, 2020-10-31 00:00:00, 2020-11-01 00:00:00, 2020-11-02 00:00:00, 2020-11-03 00:00:00, 2020-11-04 00:00:00]\n",
       "Index: []"
      ]
     },
     "execution_count": 25,
     "metadata": {},
     "output_type": "execute_result"
    }
   ],
   "source": [
    "df.head()"
   ]
  },
  {
   "cell_type": "code",
   "execution_count": 32,
   "metadata": {},
   "outputs": [
    {
     "name": "stdout",
     "output_type": "stream",
     "text": [
      "2020-10-16 00:00:00\n",
      "2020-10-17 00:00:00\n",
      "2020-10-18 00:00:00\n",
      "2020-10-19 00:00:00\n",
      "2020-10-20 00:00:00\n",
      "2020-10-21 00:00:00\n",
      "2020-10-22 00:00:00\n",
      "2020-10-23 00:00:00\n",
      "2020-10-24 00:00:00\n",
      "2020-10-25 00:00:00\n",
      "2020-10-26 00:00:00\n",
      "2020-10-27 00:00:00\n",
      "2020-10-28 00:00:00\n",
      "2020-10-29 00:00:00\n",
      "2020-10-30 00:00:00\n",
      "2020-10-31 00:00:00\n",
      "2020-11-01 00:00:00\n",
      "2020-11-02 00:00:00\n",
      "2020-11-03 00:00:00\n",
      "2020-11-04 00:00:00\n"
     ]
    }
   ],
   "source": [
    "for i in dates:\n",
    "    print(i)"
   ]
  },
  {
   "cell_type": "code",
   "execution_count": 9,
   "metadata": {},
   "outputs": [],
   "source": [
    "xls = pd.ExcelFile(\"C:/Users/Ivan/Documents/CCCE/Ktronix/Ktronix.xlsx\")"
   ]
  },
  {
   "cell_type": "code",
   "execution_count": 10,
   "metadata": {},
   "outputs": [],
   "source": [
    "names1 = xls.sheet_names"
   ]
  },
  {
   "cell_type": "code",
   "execution_count": 15,
   "metadata": {},
   "outputs": [
    {
     "name": "stdout",
     "output_type": "stream",
     "text": [
      "['16-10-20']\n",
      "['18-10-20']\n",
      "['19-10-20']\n",
      "['20-10-20']\n",
      "['21-10-20']\n",
      "['22-10-20']\n",
      "['23-10-20']\n",
      "['26-10-20']\n",
      "['27-10-20']\n",
      "['28-10-20']\n",
      "['29-10-20']\n",
      "['30-10-20']\n",
      "['01-11-20']\n",
      "['02-11-20']\n",
      "['03-11-20']\n",
      "['04-11-20']\n",
      "['16-10-20', '18-10-20', '19-10-20', '20-10-20', '21-10-20', '22-10-20', '23-10-20', '26-10-20', '27-10-20', '28-10-20', '29-10-20', '30-10-20', '01-11-20', '02-11-20', '03-11-20', '04-11-20']\n"
     ]
    }
   ],
   "source": [
    "fechas = []\n",
    "for date in names1[1:]:\n",
    "    value = re.findall(r\"[0-9-]*[0-9]+\", date)\n",
    "    print(value)\n",
    "    value = value[0]\n",
    "    fechas.append(value)\n",
    "print(fechas)"
   ]
  },
  {
   "cell_type": "code",
   "execution_count": 3,
   "metadata": {},
   "outputs": [],
   "source": [
    "col = [2]\n",
    "Today = str(time.strftime(\"%Y-%m-%d\"))\n",
    "dates = pd.date_range(start= \"16/10/20\", end = Today)\n",
    "for date in dates:\n",
    "    \n",
    "    if date == \n",
    "    df = pd.read_excel(r\"C:\\Users\\Ivan\\Documents\\CCCE\\Ktronix\\Ktronix.xlsx\", sheet_name = \"Ktronix 16-10-20\", index_col = \"Codigo\")\n",
    "df = df.iloc[:, 2:3]"
   ]
  },
  {
   "cell_type": "code",
   "execution_count": 4,
   "metadata": {},
   "outputs": [
    {
     "data": {
      "text/html": [
       "<div>\n",
       "<style scoped>\n",
       "    .dataframe tbody tr th:only-of-type {\n",
       "        vertical-align: middle;\n",
       "    }\n",
       "\n",
       "    .dataframe tbody tr th {\n",
       "        vertical-align: top;\n",
       "    }\n",
       "\n",
       "    .dataframe thead th {\n",
       "        text-align: right;\n",
       "    }\n",
       "</style>\n",
       "<table border=\"1\" class=\"dataframe\">\n",
       "  <thead>\n",
       "    <tr style=\"text-align: right;\">\n",
       "      <th></th>\n",
       "      <th>Precio</th>\n",
       "    </tr>\n",
       "    <tr>\n",
       "      <th>Codigo</th>\n",
       "      <th></th>\n",
       "    </tr>\n",
       "  </thead>\n",
       "  <tbody>\n",
       "    <tr>\n",
       "      <th>7707222705548</th>\n",
       "      <td>1.099.900</td>\n",
       "    </tr>\n",
       "    <tr>\n",
       "      <th>8806090219580</th>\n",
       "      <td>1.199.900</td>\n",
       "    </tr>\n",
       "    <tr>\n",
       "      <th>723755137424</th>\n",
       "      <td>529.900</td>\n",
       "    </tr>\n",
       "    <tr>\n",
       "      <th>6941059635529</th>\n",
       "      <td>719.900</td>\n",
       "    </tr>\n",
       "    <tr>\n",
       "      <th>7707222707979</th>\n",
       "      <td>1.099.900</td>\n",
       "    </tr>\n",
       "  </tbody>\n",
       "</table>\n",
       "</div>"
      ],
      "text/plain": [
       "                  Precio\n",
       "Codigo                  \n",
       "7707222705548  1.099.900\n",
       "8806090219580  1.199.900\n",
       "723755137424     529.900\n",
       "6941059635529    719.900\n",
       "7707222707979  1.099.900"
      ]
     },
     "execution_count": 4,
     "metadata": {},
     "output_type": "execute_result"
    }
   ],
   "source": [
    "df.head()"
   ]
  },
  {
   "cell_type": "code",
   "execution_count": 5,
   "metadata": {},
   "outputs": [
    {
     "data": {
      "text/plain": [
       "<bound method NDFrame.head of                   Precio\n",
       "Codigo                  \n",
       "7707222705548  1.099.900\n",
       "8806090219580  1.199.900\n",
       "723755137424     529.900\n",
       "6941059635529    719.900\n",
       "7707222707979  1.099.900\n",
       "...                  ...\n",
       "34264424166      176.000\n",
       "842978134024      36.900\n",
       "50875823143       97.900\n",
       "768686283352     409.800\n",
       "768686283680     409.800\n",
       "\n",
       "[850 rows x 1 columns]>"
      ]
     },
     "execution_count": 5,
     "metadata": {},
     "output_type": "execute_result"
    }
   ],
   "source": [
    "df.head"
   ]
  },
  {
   "cell_type": "code",
   "execution_count": 2,
   "metadata": {},
   "outputs": [],
   "source": [
    "xls = pd.ExcelFile(\"C:/Users/Ivan/Documents/CCCE/Ktronix/Ktronix.xlsx\")"
   ]
  },
  {
   "cell_type": "code",
   "execution_count": 3,
   "metadata": {},
   "outputs": [],
   "source": [
    "names1 = xls.sheet_names"
   ]
  },
  {
   "cell_type": "code",
   "execution_count": 55,
   "metadata": {},
   "outputs": [
    {
     "name": "stdout",
     "output_type": "stream",
     "text": [
      "['Ktronix 02-10-20', 'Ktronix 16-10-20', 'Ktronix 18-10-20', 'Ktronix 19-10-20', 'Ktronix 20-10-20', 'Ktronix 21-10-20', 'Ktronix 22-10-20', 'Ktronix 23-10-20', 'Ktronix 26-10-20', 'Ktronix 27-10-20', 'Ktronix 28-10-20', 'Ktronix 29-10-20', 'Ktronix 30-10-20', 'Ktronix 01-11-20', 'Ktronix 02-11-20', 'Ktronix 03-11-20']\n"
     ]
    }
   ],
   "source": [
    "print(names1)"
   ]
  },
  {
   "cell_type": "code",
   "execution_count": 70,
   "metadata": {},
   "outputs": [],
   "source": [
    "#merge_value.head\n",
    "import openpyxl\n",
    "from openpyxl import load_workbook\n",
    "book = load_workbook('Ktronix.xlsx')\n",
    "writer = pd.ExcelWriter('Ktronix.xlsx', engine = 'openpyxl')\n",
    "writer.book = book\n",
    "merge_value.to_excel(writer, sheet_name = \"Ktronix consolidado\", index = False)\n",
    "writer.save()"
   ]
  },
  {
   "cell_type": "code",
   "execution_count": 71,
   "metadata": {},
   "outputs": [
    {
     "data": {
      "text/html": [
       "<div>\n",
       "<style scoped>\n",
       "    .dataframe tbody tr th:only-of-type {\n",
       "        vertical-align: middle;\n",
       "    }\n",
       "\n",
       "    .dataframe tbody tr th {\n",
       "        vertical-align: top;\n",
       "    }\n",
       "\n",
       "    .dataframe thead th {\n",
       "        text-align: right;\n",
       "    }\n",
       "</style>\n",
       "<table border=\"1\" class=\"dataframe\">\n",
       "  <thead>\n",
       "    <tr style=\"text-align: right;\">\n",
       "      <th></th>\n",
       "      <th>Codigo</th>\n",
       "      <th>Descripción</th>\n",
       "      <th>Subcategoria</th>\n",
       "      <th>Precio</th>\n",
       "      <th>Link</th>\n",
       "      <th>Fecha &amp; Hora</th>\n",
       "    </tr>\n",
       "  </thead>\n",
       "  <tbody>\n",
       "    <tr>\n",
       "      <th>0</th>\n",
       "      <td>7707222705548</td>\n",
       "      <td>celular-samsung-galaxy-m31-128gb-negro-cover-n...</td>\n",
       "      <td>Celular</td>\n",
       "      <td>1.099.900</td>\n",
       "      <td>https://www.ktronix.com/celular-samsung-galaxy...</td>\n",
       "      <td>02/10/20 09:36:48</td>\n",
       "    </tr>\n",
       "    <tr>\n",
       "      <th>1</th>\n",
       "      <td>8806090219580</td>\n",
       "      <td>celular-samsung-galaxy-a30s-128gb-morado</td>\n",
       "      <td>Celular</td>\n",
       "      <td>1.199.900</td>\n",
       "      <td>https://www.ktronix.com/celular-samsung-galaxy...</td>\n",
       "      <td>02/10/20 09:36:48</td>\n",
       "    </tr>\n",
       "    <tr>\n",
       "      <th>2</th>\n",
       "      <td>723755137424</td>\n",
       "      <td>celular-motorola-one-macro-64gb-azul</td>\n",
       "      <td>Celular</td>\n",
       "      <td>529.900</td>\n",
       "      <td>https://www.ktronix.com/celular-motorola-one-m...</td>\n",
       "      <td>02/10/20 09:36:48</td>\n",
       "    </tr>\n",
       "    <tr>\n",
       "      <th>3</th>\n",
       "      <td>6941059635529</td>\n",
       "      <td>celular-xiaomi-redmi-note-8-128gb-azul</td>\n",
       "      <td>Celular</td>\n",
       "      <td>719.900</td>\n",
       "      <td>https://www.ktronix.com/celular-xiaomi-redmi-n...</td>\n",
       "      <td>02/10/20 09:36:48</td>\n",
       "    </tr>\n",
       "    <tr>\n",
       "      <th>4</th>\n",
       "      <td>7707222707979</td>\n",
       "      <td>celular-samsung-galaxy-m31-128gb-azul-cover-negro</td>\n",
       "      <td>Celular</td>\n",
       "      <td>1.099.900</td>\n",
       "      <td>https://www.ktronix.com/celular-samsung-galaxy...</td>\n",
       "      <td>02/10/20 09:36:48</td>\n",
       "    </tr>\n",
       "  </tbody>\n",
       "</table>\n",
       "</div>"
      ],
      "text/plain": [
       "          Codigo                                        Descripción  \\\n",
       "0  7707222705548  celular-samsung-galaxy-m31-128gb-negro-cover-n...   \n",
       "1  8806090219580           celular-samsung-galaxy-a30s-128gb-morado   \n",
       "2   723755137424               celular-motorola-one-macro-64gb-azul   \n",
       "3  6941059635529             celular-xiaomi-redmi-note-8-128gb-azul   \n",
       "4  7707222707979  celular-samsung-galaxy-m31-128gb-azul-cover-negro   \n",
       "\n",
       "  Subcategoria     Precio                                               Link  \\\n",
       "0      Celular  1.099.900  https://www.ktronix.com/celular-samsung-galaxy...   \n",
       "1      Celular  1.199.900  https://www.ktronix.com/celular-samsung-galaxy...   \n",
       "2      Celular    529.900  https://www.ktronix.com/celular-motorola-one-m...   \n",
       "3      Celular    719.900  https://www.ktronix.com/celular-xiaomi-redmi-n...   \n",
       "4      Celular  1.099.900  https://www.ktronix.com/celular-samsung-galaxy...   \n",
       "\n",
       "        Fecha & Hora  \n",
       "0  02/10/20 09:36:48  \n",
       "1  02/10/20 09:36:48  \n",
       "2  02/10/20 09:36:48  \n",
       "3  02/10/20 09:36:48  \n",
       "4  02/10/20 09:36:48  "
      ]
     },
     "execution_count": 71,
     "metadata": {},
     "output_type": "execute_result"
    }
   ],
   "source": [
    "merge_value.head()"
   ]
  },
  {
   "cell_type": "code",
   "execution_count": null,
   "metadata": {},
   "outputs": [],
   "source": []
  }
 ],
 "metadata": {
  "kernelspec": {
   "display_name": "Python 3",
   "language": "python",
   "name": "python3"
  },
  "language_info": {
   "codemirror_mode": {
    "name": "ipython",
    "version": 3
   },
   "file_extension": ".py",
   "mimetype": "text/x-python",
   "name": "python",
   "nbconvert_exporter": "python",
   "pygments_lexer": "ipython3",
   "version": "3.8.3"
  }
 },
 "nbformat": 4,
 "nbformat_minor": 4
}
